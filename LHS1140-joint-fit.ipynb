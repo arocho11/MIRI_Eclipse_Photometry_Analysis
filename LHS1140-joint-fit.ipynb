{
 "cells": [
  {
   "cell_type": "code",
   "execution_count": 5,
   "metadata": {},
   "outputs": [],
   "source": [
    "import numpy as np\n",
    "import matplotlib.pyplot as plt\n",
    "import batman\n",
    "import emcee\n",
    "import astropy\n",
    "from astropy.time import Time\n",
    "import h5py\n",
    "import corner\n",
    "from matplotlib.ticker import MaxNLocator, ScalarFormatter\n",
    "from multiprocessing import Pool\n",
    "import matplotlib.ticker as mticker\n",
    "from mc3.stats import time_avg\n",
    "from astropy.modeling.models import BlackBody\n",
    "from astropy import units as u\n",
    "from astropy.visualization import quantity_support\n",
    "import matplotlib.patches as patches\n",
    "from scipy.optimize import curve_fit"
   ]
  },
  {
   "cell_type": "code",
   "execution_count": 9,
   "metadata": {},
   "outputs": [
    {
     "name": "stdout",
     "output_type": "stream",
     "text": [
      "[60275.77646891 60275.77659717 60275.77672543 ... 60275.93794689\n",
      " 60275.93807515 60275.93820341]\n"
     ]
    }
   ],
   "source": [
    "eclipses = ['1', '2', '3']\n",
    "a = '5'\n",
    "#aperture = ['4', '7', '12']\n",
    "segments = ['0000', '0001', '0002', '0003', '0004']\n",
    "\n",
    "# Initialize dictionaries to hold arrays for each aperture\n",
    "time_arr = {e: [] for e in eclipses}\n",
    "aplev_arr = {e: [] for e in eclipses}\n",
    "aperr_arr = {e: [] for e in eclipses}\n",
    "centroid_x_arr = {e: [] for e in eclipses}\n",
    "centroid_y_arr = {e: [] for e in eclipses}\n",
    "\n",
    "\n",
    "for e in eclipses:\n",
    "    for seg in segments:\n",
    "        if e == '1':\n",
    "            path = '/Volumes/HardDrive/LHS1140-c/JWST_eclipse'+ e +'/LHS1140c-S3_ap' + a + '_bg12_30/S3_lhs1140c_ap' + a + '_bg12_30_FluxData_seg'+seg+'.h5'\n",
    "        elif e == '2':\n",
    "            path = '/Volumes/HardDrive/LHS1140-c/JWST_eclipse'+ e +'/Stage3/S3_2024-07-22_lhs1140c_run1/ap' + a + '_bg12_30/S3_lhs1140c_ap' + a + '_bg12_30_FluxData_seg'+seg+'.h5'\n",
    "        elif e == '3':\n",
    "            path = '/Volumes/HardDrive/LHS1140-c/JWST_eclipse'+ e +'/Stage3/S3_2024-08-05_lhs1140c_run1/ap' + a + '_bg12_30/S3_lhs1140c_ap' + a + '_bg12_30_FluxData_seg'+seg+'.h5'\n",
    "        with h5py.File(path, 'r') as file:     # open the file\n",
    "            time_arr[e] = np.append(time_arr[e], np.array(file['time']))\n",
    "            aplev_arr[e] = np.append(aplev_arr[e], np.array(file['aplev']))\n",
    "            aperr_arr[e] = np.append(aperr_arr[e], np.array(file['aperr']))\n",
    "            centroid_x_arr[e] = np.append(centroid_x_arr[e], np.array(file['centroid_x']))\n",
    "            centroid_y_arr[e] = np.append(centroid_y_arr[e], np.array(file['centroid_y']))\n",
    "\n",
    "    time_arr[e] = np.array(time_arr[e])\n",
    "    aplev_arr[e] = np.array(aplev_arr[e])\n",
    "    aperr_arr[e] = np.array(aperr_arr[e])\n",
    "    centroid_x_arr[e] = np.array(centroid_x_arr[e])\n",
    "    centroid_y_arr[e] = np.array(centroid_y_arr[e])"
   ]
  },
  {
   "cell_type": "code",
   "execution_count": 22,
   "metadata": {},
   "outputs": [
    {
     "name": "stdout",
     "output_type": "stream",
     "text": [
      "1262 1262 1262 3786 3786\n"
     ]
    },
    {
     "data": {
      "text/plain": [
       "[<matplotlib.lines.Line2D at 0x140e42280>]"
      ]
     },
     "execution_count": 22,
     "metadata": {},
     "output_type": "execute_result"
    },
    {
     "data": {
      "image/png": "[encoded data removed]",
      "text/plain": [
       "<Figure size 2000x200 with 1 Axes>"
      ]
     },
     "metadata": {},
     "output_type": "display_data"
    }
   ],
   "source": [
    "len1 = len(time_arr['1'])\n",
    "len2 = len(time_arr['2'])\n",
    "len3 = len(time_arr['3'])\n",
    "time = np.concatenate((time_arr['1'], time_arr['2'], time_arr['3']))\n",
    "aplev = np.concatenate((aplev_arr['1'], aplev_arr['2'], aplev_arr['3']))\n",
    "\n",
    "print(len1, len2, len3, (len1+len2+len3), len(time))\n",
    "\n",
    "plt.figure(figsize=(20, 2))\n",
    "plt.plot(time[0:len1], aplev_arr['1'], 'ok')\n",
    "plt.plot(time[len1:(len1+len2)], aplev_arr['2'], 'or')\n",
    "plt.plot(time, aplev,'o')\n",
    "\n"
   ]
  },
  {
   "cell_type": "code",
   "execution_count": null,
   "metadata": {},
   "outputs": [],
   "source": [
    "def transit_model(time, t_s, fp):\n",
    "    params = batman.TransitParams()       #object to store transit parameters\n",
    "    params.t0 = 58388.7939*24\n",
    "    params.per = 3.777940*24              #orbital period in hours\n",
    "    params.rp = 0.0539                    #planet radius (in units of stellar radii) # check that this is ratio of radii -> 0.0539 is charles value\n",
    "    params.a = 26.57                      #semi-major axis (in units of stellar radii)\n",
    "    params.inc = 89.8                     #orbital inclination (in degrees)\n",
    "    params.ecc = 0.                       #eccentricity\n",
    "    params.w = 90.                        #longitude of periastron (in degrees)\n",
    "    params.limb_dark = \"quadratic\"        #limb darkening model\n",
    "    params.u = [0.16, 0.22]               #limb darkening coefficients, values from cadieux 2024b\n",
    "    params.fp = fp                        #planet to star flux ratio\n",
    "    params.t_secondary = t_s\n",
    "\n",
    "    m = batman.TransitModel(params, time, transittype=\"secondary\")\n",
    "    flux = m.light_curve(params)\n",
    "    return flux\n"
   ]
  }
 ],
 "metadata": {
  "kernelspec": {
   "display_name": "eureka",
   "language": "python",
   "name": "python3"
  },
  "language_info": {
   "codemirror_mode": {
    "name": "ipython",
    "version": 3
   },
   "file_extension": ".py",
   "mimetype": "text/x-python",
   "name": "python",
   "nbconvert_exporter": "python",
   "pygments_lexer": "ipython3",
   "version": "3.9.7"
  }
 },
 "nbformat": 4,
 "nbformat_minor": 2
}
