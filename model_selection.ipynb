{
 "cells": [
  {
   "cell_type": "code",
   "execution_count": 6,
   "metadata": {},
   "outputs": [],
   "source": [
    "import numpy as np\n",
    "import matplotlib.pyplot as plt\n",
    "import re\n"
   ]
  },
  {
   "cell_type": "code",
   "execution_count": 3,
   "metadata": {},
   "outputs": [],
   "source": [
    "def extract_mcmc_parameters(file_path):\n",
    "    # Read the file content\n",
    "    with open(file_path, \"r\") as file:\n",
    "        data = file.read()\n",
    "    \n",
    "    # Extract key-value pairs using regular expressions\n",
    "    results = re.findall(r'(\\S+)\\s*=\\s*([-+]?\\d*\\.?\\d+(?:[eE][-+]?\\d+)?)\\s*(\\+\\d*\\.?\\d+(?:[eE][-+]?\\d+)?)?\\s*(\\-\\d*\\.?\\d+(?:[eE][-+]?\\d+)?)?', data)\n",
    "    \n",
    "    # Store results in a dictionary\n",
    "    parameters = {}\n",
    "    for result in results:\n",
    "        key = result[0]\n",
    "        value = float(result[1])\n",
    "        plus_err = float(result[2]) if result[2] else None\n",
    "        minus_err = float(result[3]) if result[3] else None\n",
    "        parameters[key] = {\n",
    "            \"value\": value,\n",
    "            \"plus_err\": plus_err,\n",
    "            \"minus_err\": minus_err\n",
    "        }\n",
    "    \n",
    "    return parameters"
   ]
  },
  {
   "cell_type": "code",
   "execution_count": 11,
   "metadata": {},
   "outputs": [
    {
     "name": "stdout",
     "output_type": "stream",
     "text": [
      "Eclipse 1\n",
      "exp {'t_s': {'value': 2.3547243614739815, 'plus_err': 0.045854173692250644, 'minus_err': -0.0527589061881546}, 'fp': {'value': 0.00032398707243913577, 'plus_err': 5.360428359960632e-05, 'minus_err': -5.410135642869773e-05}, 'c_1': {'value': 0.0034604447608135407, 'plus_err': 9.410675957610823e-05, 'minus_err': -9.73657101093618e-05}, 'c_2': {'value': 2.135798552069624, 'plus_err': 0.06718036619464707, 'minus_err': -0.07133297468438293}, 'c_3': {'value': 0.9993458094628047, 'plus_err': 4.3435121287571654e-05, 'minus_err': -4.368229554829739e-05}, 'c_4': {'value': 0.0008097972210384756, 'plus_err': 1.6361233582886324e-05, 'minus_err': -1.581573278333615e-05}, 'RMS': {'value': 810.553281638424, 'plus_err': None, 'minus_err': None}, 'chi2': {'value': 1261.803615472046, 'plus_err': None, 'minus_err': None}, 'BIC': {'value': -16634.554431339307, 'plus_err': None, 'minus_err': None}}\n",
      "exp+linear {'t_s': {'value': 2.3498684189533745, 'plus_err': 0.01386041209878508, 'minus_err': -0.012102833318474726}, 'fp': {'value': 0.00039325076437021354, 'plus_err': 6.073504288704723e-05, 'minus_err': -6.295358870331481e-05}, 'c_1': {'value': 5.092782127876125e-05, 'plus_err': 2.9109003662029307e-06, 'minus_err': -2.832739367857489e-06}, 'c_2': {'value': 2.8734218662588353, 'plus_err': 0.3846196056756508, 'minus_err': -0.35441139971835245}, 'c_3': {'value': 0.015250779269401878, 'plus_err': 0.0004890256434292618, 'minus_err': -0.0003816901962686095}, 'c_4': {'value': -0.00732505547262533, 'plus_err': 0.0031857824604584273, 'minus_err': -0.0028470677899750446}, 'c_5': {'value': 65.54622351294903, 'plus_err': 1.6277251984248124, 'minus_err': -1.9753251452306273}, 'sigF': {'value': 0.0008083400662588509, 'plus_err': 1.676214890512632e-05, 'minus_err': -1.5872355550808196e-05}, 'RMS': {'value': 809.2721725256163, 'plus_err': None, 'minus_err': None}, 'chi2': {'value': 1262.196899747444, 'plus_err': None, 'minus_err': None}, 'BIC': {'value': -16624.422003288793, 'plus_err': None, 'minus_err': None}}\n",
      "exp+polynomial {'t_s': {'value': 2.361154786380652, 'plus_err': 0.013145621445754152, 'minus_err': -0.013635346446678742}, 'fp': {'value': 0.00031515849629186796, 'plus_err': 8.093609718098671e-05, 'minus_err': -7.792111758051445e-05}, 'c_1': {'value': 0.0019229891128325189, 'plus_err': 0.0003754365184691149, 'minus_err': -0.0003301015022101237}, 'c_2': {'value': 8.181924687913511, 'plus_err': 2.9030859625513985, 'minus_err': -2.443796228608682}, 'c_3': {'value': 1.0017526856397965, 'plus_err': 0.023293008243420177, 'minus_err': -0.02192214491640876}, 'c_4': {'value': -0.00011865325564140396, 'plus_err': 4.416362450048711e-05, 'minus_err': -3.614741680097987e-05}, 'c_5': {'value': 0.0009386506723933882, 'plus_err': 0.0002286272334282635, 'minus_err': -0.00029778122571805254}, 'c_6': {'value': -0.0024500397304462757, 'plus_err': 0.0006257383172396332, 'minus_err': -0.00044657787825134803}, 'c_7': {'value': 0.9997386450153258, 'plus_err': 0.02338779989343931, 'minus_err': -0.021981003919814945}, 'c_8': {'value': 0.0008054472150811755, 'plus_err': 1.6273011039124393e-05, 'minus_err': -1.580738327224408e-05}, 'RMS': {'value': 806.2666413564913, 'plus_err': None, 'minus_err': None}, 'chi2': {'value': 1262.0055262519409, 'plus_err': None, 'minus_err': None}, 'BIC': {'value': -16619.37028181088, 'plus_err': None, 'minus_err': None}, 'RMS2': {'value': 0.005002367109972471, 'plus_err': None, 'minus_err': None}}\n",
      "polynomial {'t_s': {'value': 2.3664315429683827, 'plus_err': 0.01216311438768125, 'minus_err': -0.014321825256438547}, 'fp': {'value': 0.00032906122772618406, 'plus_err': 7.646074570825327e-05, 'minus_err': -7.682482703698991e-05}, 'c_1': {'value': -0.00022548101343605777, 'plus_err': 2.4795429990091068e-05, 'minus_err': -2.4877817635971352e-05}, 'c_2': {'value': 0.0016649558452144413, 'plus_err': 0.0001380487251913757, 'minus_err': -0.000138595790231718}, 'c_3': {'value': -0.003906800946859803, 'plus_err': 0.00021214696875440728, 'minus_err': -0.00021232983421244113}, 'c_4': {'value': 1.0022757583045074, 'plus_err': 0.00011656658972758471, 'minus_err': -0.00011584481758930565}, 'c_5': {'value': 0.0008234990601501882, 'plus_err': 1.6308953062966797e-05, 'minus_err': -1.6122966725729015e-05}, 'RMS': {'value': 818.8264623812103, 'plus_err': None, 'minus_err': None}, 'chi2': {'value': 1245.2807856670613, 'plus_err': None, 'minus_err': None}, 'BIC': {'value': -16601.656482411483, 'plus_err': None, 'minus_err': None}}\n",
      "double_exp {'t_s': {'value': 2.3533190542006834, 'plus_err': 0.013531793984436824, 'minus_err': -0.012195033565377766}, 'fp': {'value': 0.0003899492437236099, 'plus_err': 5.968800911366394e-05, 'minus_err': -6.05153058374821e-05}, 'c_1': {'value': 0.9996233115177158, 'plus_err': 0.00011357472403561442, 'minus_err': -0.00012539180647208603}, 'c_2': {'value': 0.00010864643579937258, 'plus_err': 4.316872753058347e-05, 'minus_err': -4.8082400209329365e-05}, 'c_3': {'value': 0.0033296149237289864, 'plus_err': 0.00016438070169210155, 'minus_err': -0.00016328315945054062}, 'c_4': {'value': 2.799795373617119, 'plus_err': 0.38133389643620674, 'minus_err': -0.34895722904785886}, 'sigF': {'value': 0.000809566314732101, 'plus_err': 1.626048975467316e-05, 'minus_err': -1.586946797342342e-05}, 'RMS': {'value': 809.2269749766583, 'plus_err': None, 'minus_err': None}, 'chi2': {'value': 1258.2564879292872, 'plus_err': None, 'minus_err': None}, 'BIC': {'value': -16631.681349407943, 'plus_err': None, 'minus_err': None}, 'RMS2': {'value': 0.00786315928267483, 'plus_err': None, 'minus_err': None}}\n",
      "exp_2nd_order_centroid {'t_s': {'value': 2.353837417693118, 'plus_err': 0.013621238912446376, 'minus_err': -0.013041076622560155}, 'fp': {'value': 0.0003372942260566253, 'plus_err': 5.878540512096157e-05, 'minus_err': -5.936099181991857e-05}, 'c_1': {'value': -2.5724076452280684, 'plus_err': 63241.39594860096, 'minus_err': -73672.30089516568}, 'c_2': {'value': -6.389941025254419, 'plus_err': 836.6370086891741, 'minus_err': -633.6379600587137}, 'c_3': {'value': 6.525492587736043, 'plus_err': 428.07350939766724, 'minus_err': -528.0972433662946}, 'c_4': {'value': 0.7233170877339714, 'plus_err': 2.1655761058799317, 'minus_err': -2.382012562652389}, 'c_5': {'value': -1.4045958036658905, 'plus_err': 2.3074510744156838, 'minus_err': -2.5406152714541657}, 'c_6': {'value': 0.6804574248204798, 'plus_err': 1.2135143668648027, 'minus_err': -1.130463461237509}, 'c_7': {'value': 0.0032785998747512667, 'plus_err': 0.0002020955626869385, 'minus_err': -0.00020261867098205887}, 'c_8': {'value': 2.12042817557747, 'plus_err': 0.18590679722246106, 'minus_err': -0.1668534260868737}, 'c_9': {'value': 0.9432017891049531, 'plus_err': 0.027181257252454905, 'minus_err': -0.025272582015363643}, 'sigF': {'value': 0.0008016404863517826, 'plus_err': 1.6786232518578147e-05, 'minus_err': -1.662227185314372e-05}, 'RMS': {'value': 808.2095055501642, 'plus_err': None, 'minus_err': None}, 'chi2': {'value': 1280.1725923960828, 'plus_err': None, 'minus_err': None}, 'BIC': {'value': -16641.697017001978, 'plus_err': None, 'minus_err': None}, 'RMS2': {'value': 0.008773564036316047, 'plus_err': None, 'minus_err': None}}\n",
      "exp+polynomial_2nd_order_centroid {'t_s': {'value': 2.3502177606556165, 'plus_err': 0.017595508821701245, 'minus_err': -0.009359964185672087}, 'fp': {'value': 0.00034968725702527666, 'plus_err': 0.00017190172860073743, 'minus_err': -0.00011824847302287374}, 'c_1': {'value': 8.354165308366198, 'plus_err': 3.740276303985976, 'minus_err': -0.20511326538695984}, 'c_2': {'value': 6.81509121776436, 'plus_err': 2.08994519467968, 'minus_err': -0.1563349458115053}, 'c_3': {'value': -7.001818756985894, 'plus_err': 0.16342268490293765, 'minus_err': -2.4956124265756863}, 'c_4': {'value': -0.7528832661507583, 'plus_err': 0.6090923700322066, 'minus_err': -0.031553398564944546}, 'c_5': {'value': 1.4605817266607062, 'plus_err': 0.06399565754546055, 'minus_err': -1.2691700355003364}, 'c_6': {'value': -0.7067902531978936, 'plus_err': 0.6458691467118649, 'minus_err': -0.032377011244282494}, 'c_7': {'value': 0.0038545050493028234, 'plus_err': 0.011426102108341732, 'minus_err': -0.03262379548211643}, 'c_8': {'value': 21.800567775921007, 'plus_err': 5.803166642281188, 'minus_err': -0.3691234615798775}, 'c_9': {'value': 3.13113131656099, 'plus_err': 0.0585470913740922, 'minus_err': -0.10780270096891842}, 'c_10': {'value': 0.00014353582250657232, 'plus_err': 0.00020328085168246117, 'minus_err': -8.881655990677013e-05}, 'c_11': {'value': -0.0011039835946735736, 'plus_err': 0.000831932964960712, 'minus_err': -0.0018116105875230365}, 'c_12': {'value': 0.002768202810534676, 'plus_err': 0.00598623034289934, 'minus_err': -0.002862056719186173}, 'c_13': {'value': -0.9470766955404842, 'plus_err': 0.020036291318024646, 'minus_err': -0.030528073529780597}, 'sigF': {'value': 0.0008049300635268459, 'plus_err': 0.00018589361960446736, 'minus_err': -2.4193140182699694e-05}, 'RMS': {'value': 809.8116219475077, 'plus_err': None, 'minus_err': None}, 'chi2': {'value': 1274.7357539843847, 'plus_err': None, 'minus_err': None}, 'BIC': {'value': -16608.258584070165, 'plus_err': None, 'minus_err': None}, 'RMS2': {'value': 0.004929266492012923, 'plus_err': None, 'minus_err': None}}\n",
      "exp+linear_2nd_order_centroid {'t_s': {'value': 2.344037411453768, 'plus_err': 0.013332731321314295, 'minus_err': -0.012881263364018292}, 'fp': {'value': 0.0004046135696112725, 'plus_err': 0.00023431861761364584, 'minus_err': -8.860865239358805e-05}, 'c_1': {'value': 0.8992266835943555, 'plus_err': 5.448095904928839, 'minus_err': -18.063816992726586}, 'c_2': {'value': -0.21392627696516126, 'plus_err': 2.6657278390157666, 'minus_err': -1.2938906646917083}, 'c_3': {'value': 0.2016938802387317, 'plus_err': 1.063961310680096, 'minus_err': -2.588554330215788}, 'c_4': {'value': 0.004101978860049555, 'plus_err': 0.025917570325984633, 'minus_err': -0.027924080575972825}, 'c_5': {'value': -0.006555185974931429, 'plus_err': 0.029518562125607037, 'minus_err': -0.03201883488436434}, 'c_6': {'value': 0.0024947888927129413, 'plus_err': 0.026898128135958113, 'minus_err': -0.017268292289107135}, 'c_7': {'value': 0.003432061469042838, 'plus_err': 0.000311711242899599, 'minus_err': -0.0003957050517722398}, 'c_8': {'value': 2.872215739839199, 'plus_err': 0.5278250455534663, 'minus_err': -0.6744054069011336}, 'c_9': {'value': 0.9872205205660461, 'plus_err': 0.021694746976006818, 'minus_err': -0.027034007861003295}, 'c_10': {'value': -0.007793833693684458, 'plus_err': 0.006706741868313385, 'minus_err': -0.004057282012046955}, 'c_11': {'value': 63.99111801588989, 'plus_err': 0.6222249663973258, 'minus_err': -0.8418102855157414}, 'sigF': {'value': 0.0008042928645248579, 'plus_err': 0.0017778997902428884, 'minus_err': -2.096230473166321e-05}, 'RMS': {'value': 807.3941057483412, 'plus_err': None, 'minus_err': None}, 'chi2': {'value': 1269.0385482277018, 'plus_err': None, 'minus_err': None}, 'BIC': {'value': -16630.229197068697, 'plus_err': None, 'minus_err': None}, 'RMS2': {'value': 0.009478349848797949, 'plus_err': None, 'minus_err': None}}\n",
      "polynomial_2nd_order_centroid {'t_s': {'value': 2.364480766498483, 'plus_err': 0.013983070129063524, 'minus_err': -0.018565714522938315}, 'fp': {'value': 0.0003255301193303895, 'plus_err': 0.007505103394358143, 'minus_err': -0.0008626609015626847}, 'c_1': {'value': -6.399602933140747, 'plus_err': 0.6296230978303045, 'minus_err': -10.0332134102963}, 'c_2': {'value': 1.0845962063624914, 'plus_err': 0.9485278128429132, 'minus_err': -9.703528943032321}, 'c_3': {'value': -1.0749750412155974, 'plus_err': 0.3261920706347814, 'minus_err': -3.5977207143079197}, 'c_4': {'value': -2.083046933024045, 'plus_err': 0.41320604519255455, 'minus_err': -2.089554812116326}, 'c_5': {'value': 4.182382191358318, 'plus_err': 4.32267072665016, 'minus_err': -0.7816089295371205}, 'c_6': {'value': -2.099189433636382, 'plus_err': 0.41004749003069946, 'minus_err': -2.1334898709041634}, 'c_7': {'value': 0.00012615449466368595, 'plus_err': 0.0018029501568704474, 'minus_err': -0.001013928538670899}, 'c_8': {'value': -0.0009376044300118103, 'plus_err': 0.006328304520191914, 'minus_err': -0.010045546367577176}, 'c_9': {'value': 0.0022160332497979888, 'plus_err': 0.014103056065784023, 'minus_err': -0.011702818124967151}, 'c_10': {'value': -0.5904089869973612, 'plus_err': 1.6741393450876787, 'minus_err': -0.09315320897822377}, 'sigF': {'value': 0.0008175061691095881, 'plus_err': 0.01733107320433847, 'minus_err': -0.001108575265296917}, 'RMS': {'value': 814.8356084914136, 'plus_err': None, 'minus_err': None}, 'chi2': {'value': 1251.4755722251166, 'plus_err': None, 'minus_err': None}, 'BIC': {'value': -16613.867673228255, 'plus_err': None, 'minus_err': None}, 'RMS2': {'value': 0.010020349311069668, 'plus_err': None, 'minus_err': None}}\n",
      "double_exp_2nd_order_centroid {'t_s': {'value': 2.3546070221245023, 'plus_err': 0.025166346934278216, 'minus_err': -0.015596052976317942}, 'fp': {'value': 0.00044316427582192304, 'plus_err': 0.31367711154908723, 'minus_err': -0.02013252699075669}, 'c_1': {'value': -3.7427484284767454, 'plus_err': 0.9140225599799409, 'minus_err': -3.833014021033326}, 'c_2': {'value': 1.65155244176094, 'plus_err': 0.2323065757732522, 'minus_err': -0.5509426823045832}, 'c_3': {'value': 1.1757864681089845, 'plus_err': 2.652391814693432, 'minus_err': -1.2673632142401117}, 'c_4': {'value': 0.18999300243766223, 'plus_err': 0.4789110192316855, 'minus_err': -0.861907300801973}, 'c_5': {'value': -0.10489258333409152, 'plus_err': 2.4756466751299975, 'minus_err': -0.6229505215233544}, 'c_6': {'value': 0.23074677899141902, 'plus_err': 0.4790928316314348, 'minus_err': -1.7524295405168715}, 'c_7': {'value': 0.00018562939204934555, 'plus_err': 0.0920779049350502, 'minus_err': -0.004557986821055838}, 'c_8': {'value': 0.00014742834421024279, 'plus_err': 0.10074627660344304, 'minus_err': -0.01870239411248108}, 'c_9': {'value': 6.077518174062839e-07, 'plus_err': 0.0014361685821226622, 'minus_err': -0.04822888854924556}, 'c_10': {'value': 3.4605525038734792, 'plus_err': 1.2235444782375526, 'minus_err': -0.9644851752840052}, 'sigF': {'value': 0.0008133917548398803, 'plus_err': 0.1127715011240176, 'minus_err': -0.02569191683127539}, 'RMS': {'value': 812.982463783256, 'plus_err': None, 'minus_err': None}, 'chi2': {'value': 1258.0020143737277, 'plus_err': None, 'minus_err': None}, 'BIC': {'value': -16620.056123659735, 'plus_err': None, 'minus_err': None}, 'RMS2': {'value': 0.012154127726286828, 'plus_err': None, 'minus_err': None}}\n",
      "Eclipse 2\n",
      "exp {'t_s': {'value': 2.3421260236730572, 'plus_err': 0.016868113694949116, 'minus_err': -0.013885043974300348}, 'fp': {'value': 0.000189695959856351, 'plus_err': 6.17320363144541e-05, 'minus_err': -6.12740182905724e-05}, 'c_1': {'value': 0.21210932148849349, 'plus_err': 2.980878746141743, 'minus_err': -0.5784104979221651}, 'c_2': {'value': 0.001098500480854919, 'plus_err': 0.0012202035706181916, 'minus_err': -0.00025185060236215367}, 'c_3': {'value': 0.7882074156441597, 'plus_err': 0.5784082822737417, 'minus_err': -2.980896320478463}, 'sigF': {'value': 0.0009284976384728155, 'plus_err': 1.831046112467263e-05, 'minus_err': -1.810375044284686e-05}, 'RMS': {'value': 930.1828421290277, 'plus_err': None, 'minus_err': None}, 'chi2': {'value': 1264.363196280191, 'plus_err': None, 'minus_err': None}, 'BIC': {'value': -16287.299257514993, 'plus_err': None, 'minus_err': None}, 'RMS2': {'value': 0.012739664422040694, 'plus_err': None, 'minus_err': None}}\n",
      "polynomial {'t_s': {'value': 2.3440399645665426, 'plus_err': 0.017015603349331165, 'minus_err': -0.01209789945900086}, 'fp': {'value': 0.0002043510877279417, 'plus_err': 8.687987358510626e-05, 'minus_err': -8.657300078894947e-05}, 'c_1': {'value': 6.398419732442172e-05, 'plus_err': 2.7434784192317726e-05, 'minus_err': -2.8109179521784392e-05}, 'c_2': {'value': -0.00042333685581228634, 'plus_err': 0.00015617515928956178, 'minus_err': -0.00015130631376719178}, 'c_3': {'value': 0.000550183940545113, 'plus_err': 0.00023385782828584233, 'minus_err': -0.0002397875674606266}, 'c_4': {'value': 0.999979854087533, 'plus_err': 0.00013121426907991562, 'minus_err': -0.00013123439149298477}, 'sigF': {'value': 0.000927387716770514, 'plus_err': 1.8836485508960015e-05, 'minus_err': -1.8030472986819892e-05}, 'RMS': {'value': 925.8336250212418, 'plus_err': None, 'minus_err': None}, 'chi2': {'value': 1255.5951678778613, 'plus_err': None, 'minus_err': None}, 'BIC': {'value': -16291.942616982322, 'plus_err': None, 'minus_err': None}, 'RMS2': {'value': 0.008704308799828935, 'plus_err': None, 'minus_err': None}}\n",
      "linear+polynomial {'t_s': {'value': 2.342476336462304, 'plus_err': 0.016653200838280036, 'minus_err': -0.01241366494939422}, 'fp': {'value': 0.0002490924600048821, 'plus_err': 9.289990604513268e-05, 'minus_err': -8.632095018683124e-05}, 'c_1': {'value': -0.009214691773780695, 'plus_err': 0.013402045678554082, 'minus_err': -0.01612798987153148}, 'c_2': {'value': 1.010867009111491, 'plus_err': 0.02594224900492592, 'minus_err': -0.02923556026143781}, 'c_3': {'value': 4.974822579667156e-05, 'plus_err': 3.057225841550997e-05, 'minus_err': -3.0130068971204546e-05}, 'c_4': {'value': -0.00026680989067558164, 'plus_err': 0.00029319420273353, 'minus_err': -0.00020631576081283877}, 'c_5': {'value': 0.009483693439472687, 'plus_err': 0.015649318067363856, 'minus_err': -0.0142857946828562}, 'c_6': {'value': 0.9892031209802187, 'plus_err': 0.030232820084417744, 'minus_err': -0.0253878967622041}, 'sigF': {'value': 0.000927489703764031, 'plus_err': 1.8119372199736127e-05, 'minus_err': -1.8829165225511487e-05}, 'RMS': {'value': 925.8557742970944, 'plus_err': None, 'minus_err': None}, 'chi2': {'value': 1255.300683223691, 'plus_err': None, 'minus_err': None}, 'BIC': {'value': -16277.682252587298, 'plus_err': None, 'minus_err': None}, 'RMS2': {'value': 0.008631879418395914, 'plus_err': None, 'minus_err': None}}\n",
      "linear+polynomial_2nd_order_centroid {'t_s': {'value': 2.3601238773761, 'plus_err': 0.01753268916570061, 'minus_err': -0.014184112514655567}, 'fp': {'value': 9.165006888141024e-05, 'plus_err': 0.00010467251176453001, 'minus_err': -7.087486954881645e-05}, 'c_1': {'value': 982.2228375832462, 'plus_err': 626.8703100226419, 'minus_err': -220.9832746290155}, 'c_2': {'value': -183.176755157338, 'plus_err': 69.61836398689438, 'minus_err': -210.25724600709364}, 'c_3': {'value': 168.27732877686984, 'plus_err': 201.40358021439417, 'minus_err': -68.40243445074394}, 'c_4': {'value': 1.136195869759096, 'plus_err': 1.351319761587295, 'minus_err': -0.567932352450653}, 'c_5': {'value': -0.8240481209562267, 'plus_err': 0.899688277833508, 'minus_err': -1.62935160853896}, 'c_6': {'value': -0.25572602306174264, 'plus_err': 0.8356705423231833, 'minus_err': -0.8578640053173779}, 'c_7': {'value': 0.15088747546916234, 'plus_err': 0.02154018125579049, 'minus_err': -0.01351880745725273}, 'c_8': {'value': 1.3123553756261812, 'plus_err': 0.03055747653625218, 'minus_err': -0.037526190922436475}, 'c_9': {'value': -0.00083541666807426, 'plus_err': 0.0002259763848169485, 'minus_err': -0.0005429090071101539}, 'c_10': {'value': 0.014636147727669102, 'plus_err': 0.00618873351003096, 'minus_err': -0.0028932597856879717}, 'c_11': {'value': -0.1487818087743316, 'plus_err': 0.016756116069343158, 'minus_err': -0.03205842332710593}, 'c_12': {'value': 1.3139180498847742, 'plus_err': 0.04096931309258234, 'minus_err': -0.03204469044353364}, 'sigF': {'value': 0.0009181326715021317, 'plus_err': 2.9024761001871543e-05, 'minus_err': -2.2218418946671255e-05}, 'RMS': {'value': 922.9885361727445, 'plus_err': None, 'minus_err': None}, 'chi2': {'value': 1273.3452179198916, 'plus_err': None, 'minus_err': None}, 'BIC': {'value': -16285.189990821284, 'plus_err': None, 'minus_err': None}, 'RMS2': {'value': 0.006879131689613507, 'plus_err': None, 'minus_err': None}}\n",
      "exp_2nd_order_centroid {'t_s': {'value': 2.342298528044461, 'plus_err': 0.017869427911362035, 'minus_err': -0.0150085674505811}, 'fp': {'value': 0.00016656399457297917, 'plus_err': 7.152107208227259e-05, 'minus_err': -6.700602521673329e-05}, 'c_1': {'value': -53583.225022765924, 'plus_err': 5319.006500671096, 'minus_err': -11094.173526594996}, 'c_2': {'value': 85.68326285540189, 'plus_err': 148.1860993562157, 'minus_err': -319.18858108585397}, 'c_3': {'value': 766.562397045532, 'plus_err': 475.2830855672346, 'minus_err': -109.57024079815614}, 'c_4': {'value': 0.9979955134279087, 'plus_err': 1.987166958670287, 'minus_err': -1.6307673297671976}, 'c_5': {'value': -2.685528608609145, 'plus_err': 2.664379513657387, 'minus_err': -2.838796056153818}, 'c_6': {'value': -1.7011463892343635, 'plus_err': 1.5827473067025408, 'minus_err': -1.7838594081840884}, 'c_7': {'value': 1.4187962280985313, 'plus_err': 2.2337924554332336, 'minus_err': -0.7695667829811284}, 'c_8': {'value': 0.00014949847020503135, 'plus_err': 0.0003387778955563932, 'minus_err': -0.00012025954654550174}, 'c_9': {'value': -0.43020090229526975, 'plus_err': 0.768876692827606, 'minus_err': -2.2319434889920378}, 'sigF': {'value': 0.000920667318174869, 'plus_err': 1.9245175109953864e-05, 'minus_err': -1.8978701801016396e-05}, 'RMS': {'value': 928.9483717282451, 'plus_err': None, 'minus_err': None}, 'chi2': {'value': 1282.5411680390825, 'plus_err': None, 'minus_err': None}, 'BIC': {'value': -16290.463378599286, 'plus_err': None, 'minus_err': None}, 'RMS2': {'value': 0.01537165325455822, 'plus_err': None, 'minus_err': None}}\n",
      "polynomial_2nd_order_centroid {'t_s': {'value': 2.356226554930196, 'plus_err': 0.017917949581165438, 'minus_err': -0.01392208802670325}, 'fp': {'value': 0.00017650352984982574, 'plus_err': 0.00011383276336924801, 'minus_err': -9.0765754009322e-05}, 'c_1': {'value': -63593.359701411304, 'plus_err': 1286.0403697416125, 'minus_err': -132750.96925029426}, 'c_2': {'value': 433.9324448207965, 'plus_err': 1064.4900634963667, 'minus_err': -339.31776824534796}, 'c_3': {'value': 576.2144896612057, 'plus_err': 888.6082275891836, 'minus_err': -248.8282536409526}, 'c_4': {'value': -0.3284264800248655, 'plus_err': 1.8723461150387077, 'minus_err': -2.530503933663265}, 'c_5': {'value': -2.7927157542590577, 'plus_err': 2.4603354964439155, 'minus_err': -3.9517055700488206}, 'c_6': {'value': -0.8902111889678439, 'plus_err': 1.2814393560220219, 'minus_err': -2.290555763270288}, 'c_7': {'value': 8.723934868006745e-05, 'plus_err': 4.020698817143223e-05, 'minus_err': -3.805264251562193e-05}, 'c_8': {'value': -0.0005690658033461187, 'plus_err': 0.00023966871035547074, 'minus_err': -0.00020672224244794708}, 'c_9': {'value': 0.000751945950748893, 'plus_err': 0.00034101131016290947, 'minus_err': -0.00034238149036519235}, 'c_10': {'value': 1.191794885744204, 'plus_err': 0.029085917623103752, 'minus_err': -0.028195202248588513}, 'sigF': {'value': 0.0009201810537215878, 'plus_err': 2.350150158993982e-05, 'minus_err': -1.986601126628283e-05}, 'RMS': {'value': 924.7340753875684, 'plus_err': None, 'minus_err': None}, 'chi2': {'value': 1272.368329971107, 'plus_err': None, 'minus_err': None}, 'BIC': {'value': -16294.82867762401, 'plus_err': None, 'minus_err': None}, 'RMS2': {'value': 0.009925084548234018, 'plus_err': None, 'minus_err': None}}\n",
      "Eclipse 3\n",
      "exp {'t_s': {'value': 2.323353882400818, 'plus_err': 0.01799842006276897, 'minus_err': -0.011699013199242714}, 'fp': {'value': 0.0002787759193189447, 'plus_err': 5.442928455345067e-05, 'minus_err': -5.512925257946161e-05}, 'c_1': {'value': 0.5202747034072548, 'plus_err': 2.0681254855960995, 'minus_err': -0.21496289703058916}, 'c_2': {'value': 0.0001764227142003564, 'plus_err': 0.0024433523074625387, 'minus_err': -0.0002961589520668614}, 'c_3': {'value': 0.4797072071658882, 'plus_err': 0.21500934404653893, 'minus_err': -2.0680904709989543}, 'sigF': {'value': 0.0008250239749272797, 'plus_err': 1.702439730703637e-05, 'minus_err': -1.6082354396409625e-05}, 'RMS': {'value': 827.1968090387633, 'plus_err': None, 'minus_err': None}, 'chi2': {'value': 1266.2064555882553, 'plus_err': None, 'minus_err': None}, 'BIC': {'value': -16583.207583477568, 'plus_err': None, 'minus_err': None}, 'RMS2': {'value': 0.006686019853068922, 'plus_err': None, 'minus_err': None}}\n",
      "polynomial {'t_s': {'value': 2.3242563750477467, 'plus_err': 0.01820695988100951, 'minus_err': -0.011743858248269401}, 'fp': {'value': 0.00023656237997187867, 'plus_err': 7.630206504827199e-05, 'minus_err': -7.656307898195987e-05}, 'c_1': {'value': 4.4553644530141374e-05, 'plus_err': 2.4501719174537768e-05, 'minus_err': -2.4632299098348618e-05}, 'c_2': {'value': -0.0002559721521483956, 'plus_err': 0.00013743437623357386, 'minus_err': -0.00013573590379676513}, 'c_3': {'value': 0.0003018805949031837, 'plus_err': 0.0002102769009475767, 'minus_err': -0.0002135664803578454}, 'c_4': {'value': 0.9998792766272656, 'plus_err': 0.00011643672801597837, 'minus_err': -0.00011729025292783746}, 'sigF': {'value': 0.0008260302904745609, 'plus_err': 1.6595828318644794e-05, 'minus_err': -1.6201865955588787e-05}, 'RMS': {'value': 825.4751235686861, 'plus_err': None, 'minus_err': None}, 'chi2': {'value': 1257.8879359716996, 'plus_err': None, 'minus_err': None}, 'BIC': {'value': -16581.315361902867, 'plus_err': None, 'minus_err': None}, 'RMS2': {'value': 0.005578438303003223, 'plus_err': None, 'minus_err': None}}\n",
      "linear+polynomial {'t_s': {'value': 2.3245026320898243, 'plus_err': 0.01909013084553246, 'minus_err': -0.01147947351953027}, 'fp': {'value': 0.0001987304677704459, 'plus_err': 7.545426280189434e-05, 'minus_err': -8.065762558783334e-05}, 'c_1': {'value': -0.012580950041504451, 'plus_err': 0.014292910612911864, 'minus_err': -0.011402423424800079}, 'c_2': {'value': 1.018361149261744, 'plus_err': 0.026072783304781688, 'minus_err': -0.021661720183734468}, 'c_3': {'value': 6.407826832413019e-05, 'plus_err': 2.540957362999641e-05, 'minus_err': -2.585212196386944e-05}, 'c_4': {'value': -0.00019663617574522746, 'plus_err': 0.00022735477118097577, 'minus_err': -0.00017713478908754928}, 'c_5': {'value': 0.012547456145757915, 'plus_err': 0.010917786709635405, 'minus_err': -0.014954046547710148}, 'c_6': {'value': 0.9818412775323913, 'plus_err': 0.02226837627356759, 'minus_err': -0.02555972158157982}, 'sigF': {'value': 0.0008255109298318765, 'plus_err': 1.6044862414449422e-05, 'minus_err': -1.6645786117085084e-05}, 'RMS': {'value': 825.4572237168177, 'plus_err': None, 'minus_err': None}, 'chi2': {'value': 1259.5495615859063, 'plus_err': None, 'minus_err': None}, 'BIC': {'value': -16566.960932590977, 'plus_err': None, 'minus_err': None}, 'RMS2': {'value': 0.007603068814352579, 'plus_err': None, 'minus_err': None}}\n",
      "polynomial_2nd_order_centroid {'t_s': {'value': 2.327823719724754, 'plus_err': 0.018495639266387087, 'minus_err': -0.011944700853938617}, 'fp': {'value': 0.00019061639789782808, 'plus_err': 8.482436020567003e-05, 'minus_err': -8.283960174220564e-05}, 'c_1': {'value': 228322.68608555483, 'plus_err': 190876.23523129526, 'minus_err': -642.1600780291337}, 'c_2': {'value': -1343.8622616887099, 'plus_err': 666.9215041556212, 'minus_err': -1468.773458424227}, 'c_3': {'value': -2289.6874482525095, 'plus_err': 503.8790907465818, 'minus_err': -1199.6486982826614}, 'c_4': {'value': -0.35008809664420765, 'plus_err': 2.804295712792695, 'minus_err': -4.237921371550748}, 'c_5': {'value': 11.392622864538174, 'plus_err': 5.55466385045257, 'minus_err': -4.554593613668322}, 'c_6': {'value': 3.413724929759967, 'plus_err': 2.642384034766163, 'minus_err': -1.932225659222508}, 'c_7': {'value': 4.494502101540962e-05, 'plus_err': 1.7660732480666518e-05, 'minus_err': -1.7538625456267308e-05}, 'c_8': {'value': -0.0002567254171896126, 'plus_err': 9.979474217161751e-05, 'minus_err': -9.992141061364041e-05}, 'c_9': {'value': 0.0003170963068357119, 'plus_err': 0.0001588652723653655, 'minus_err': -0.00015544876145142427}, 'c_10': {'value': 0.6822364971710214, 'plus_err': 0.01688568494609055, 'minus_err': -0.014443052234548892}, 'sigF': {'value': 0.000821363836212784, 'plus_err': 1.691132526261891e-05, 'minus_err': -1.6288356964253665e-05}, 'RMS': {'value': 823.9034359143917, 'plus_err': None, 'minus_err': None}, 'chi2': {'value': 1267.6254822131436, 'plus_err': None, 'minus_err': None}, 'BIC': {'value': -16585.85429753193, 'plus_err': None, 'minus_err': None}, 'RMS2': {'value': 0.00973534439656984, 'plus_err': None, 'minus_err': None}}\n"
     ]
    }
   ],
   "source": [
    "# Select models tested\n",
    "e1 = ['exp', 'exp+linear', 'exp+polynomial', 'polynomial', 'double_exp', 'exp_2nd_order_centroid', 'exp+polynomial_2nd_order_centroid', 'exp+linear_2nd_order_centroid', 'polynomial_2nd_order_centroid', 'double_exp_2nd_order_centroid']\n",
    "e2 =  ['exp', 'polynomial', 'linear+polynomial', 'linear+polynomial_2nd_order_centroid', 'exp_2nd_order_centroid','polynomial_2nd_order_centroid']\n",
    "e3 = ['exp','polynomial', 'linear+polynomial', 'polynomial_2nd_order_centroid']\n",
    "\n",
    "parameters_e1 = {model: [] for model in e1}\n",
    "parameters_e2 = {model: [] for model in e2}\n",
    "parameters_e3 = {model: [] for model in e3}\n",
    "\n",
    "parameters = [parameters_e1, parameters_e2, parameters_e3]\n",
    "i = 1\n",
    "for params in parameters:\n",
    "    print('Eclipse', i)\n",
    "    for model in params:\n",
    "        file = 'MCMC_results/ecl'+str(i)+'_' + model + '_test_results.txt'\n",
    "        params[model] = extract_mcmc_parameters(file)\n",
    "        print(model, params[model])\n",
    "    i += 1\n"
   ]
  },
  {
   "cell_type": "code",
   "execution_count": 22,
   "metadata": {},
   "outputs": [],
   "source": [
    "# get fp averages for each eclipses\n",
    "e1_fp_dict =  {}\n",
    "e1_fp_errp_dict = {}\n",
    "e1_fp_errm_dict = {}\n",
    "\n",
    "e2_fp_dict =  {}\n",
    "e2_fp_errp_dict = {}\n",
    "e2_fp_errm_dict = {}\n",
    "\n",
    "e3_fp_dict =  {}\n",
    "e3_fp_errp_dict = {}\n",
    "e3_fp_errm_dict = {}\n",
    "\n",
    "for model in e1:\n",
    "    e1_fp_dict[model], e1_fp_errp_dict[model], e1_fp_errm_dict[model] = parameters_e1[model]['fp']['value'], parameters_e1[model]['fp']['plus_err'], parameters_e1[model]['fp']['minus_err']\n",
    "for model in e2:\n",
    "    e2_fp_dict[model], e2_fp_errp_dict[model], e2_fp_errm_dict[model] = parameters_e2[model]['fp']['value'], parameters_e2[model]['fp']['plus_err'], parameters_e2[model]['fp']['minus_err']    \n",
    "for model in e3:\n",
    "    e3_fp_dict[model], e3_fp_errp_dict[model], e3_fp_errm_dict[model] = parameters_e3[model]['fp']['value'], parameters_e3[model]['fp']['plus_err'], parameters_e3[model]['fp']['minus_err']"
   ]
  },
  {
   "cell_type": "code",
   "execution_count": 45,
   "metadata": {},
   "outputs": [
    {
     "name": "stdout",
     "output_type": "stream",
     "text": [
      "Weighted average of fp for e1: 351.7348233707502\n",
      "Weighted average of fp for e2: 179.79343209180328\n",
      "Weighted average of fp for e3: 238.1908985634695\n"
     ]
    }
   ],
   "source": [
    "weight_e1 = []\n",
    "weight_e2 = []\n",
    "weight_e3 = []\n",
    "\n",
    "fp_e1 = []\n",
    "fp_e2 = []\n",
    "fp_e3 = []\n",
    "\n",
    "for model in e1:\n",
    "    weight_e1.append(e1_fp_errp_dict[model] + np.abs(e1_fp_errm_dict[model]))\n",
    "    fp_e1.append(e1_fp_dict[model])\n",
    "for model in e2:\n",
    "    weight_e2.append(e2_fp_errp_dict[model] + np.abs(e2_fp_errm_dict[model]))\n",
    "    fp_e2.append(e2_fp_dict[model])\n",
    "for model in e3:\n",
    "    weight_e3.append(e3_fp_errp_dict[model] + np.abs(e3_fp_errm_dict[model]))\n",
    "    fp_e3.append(e3_fp_dict[model])\n",
    "\n",
    "# weighted average\n",
    "weight_e1 = np.array(weight_e1)\n",
    "p_e1 = np.sum(fp_e1/(weight_e1**2))/np.sum(1/(weight_e1**2))\n",
    "print('Weighted average of fp for e1:', p_e1*1e6)\n",
    "\n",
    "weight_e2 = np.array(weight_e2)\n",
    "p_e2 = np.sum(fp_e2/(weight_e2**2))/np.sum(1/(weight_e2**2))\n",
    "print('Weighted average of fp for e2:', p_e2*1e6)\n",
    "\n",
    "weight_e3 = np.array(weight_e3)\n",
    "p_e3 = np.sum(fp_e3/(weight_e3**2))/np.sum(1/(weight_e3**2))\n",
    "print('Weighted average of fp for e3:', p_e3*1e6)\n"
   ]
  }
 ],
 "metadata": {
  "kernelspec": {
   "display_name": "eureka",
   "language": "python",
   "name": "python3"
  },
  "language_info": {
   "codemirror_mode": {
    "name": "ipython",
    "version": 3
   },
   "file_extension": ".py",
   "mimetype": "text/x-python",
   "name": "python",
   "nbconvert_exporter": "python",
   "pygments_lexer": "ipython3",
   "version": "3.9.7"
  }
 },
 "nbformat": 4,
 "nbformat_minor": 2
}
